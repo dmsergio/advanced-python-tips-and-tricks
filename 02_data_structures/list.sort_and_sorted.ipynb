{
 "cells": [
  {
   "cell_type": "markdown",
   "metadata": {},
   "source": [
    "### list.sort and sorted Built-In Function\n",
    "La principal diferencia entre uno y otro método, es que list.sort ordena la lista actual sin que devuelva nada, y sorted devuelve una nueva lista ordenada pero sin alterar en nada la lista original."
   ]
  },
  {
   "cell_type": "code",
   "execution_count": 4,
   "metadata": {},
   "outputs": [
    {
     "name": "stdout",
     "output_type": "stream",
     "text": [
      "['C', 'C#', 'Java', 'Java Script', 'PHP', 'Python', 'Ruby']\n",
      "['Python', 'Ruby', 'PHP', 'Java', 'Java Script', 'C', 'C#']\n",
      "['Ruby', 'Python', 'PHP', 'Java Script', 'Java', 'C#', 'C']\n",
      "['C', 'C#', 'PHP', 'Ruby', 'Java', 'Python', 'Java Script']\n",
      "['Java Script', 'Python', 'Ruby', 'Java', 'PHP', 'C#', 'C']\n",
      "['Python', 'Ruby', 'PHP', 'Java', 'Java Script', 'C', 'C#']\n",
      "None\n",
      "['C', 'C#', 'Java', 'Java Script', 'PHP', 'Python', 'Ruby']\n"
     ]
    }
   ],
   "source": [
    "languages = ['Python', 'Ruby', 'PHP', 'Java', 'Java Script', 'C', 'C#']\n",
    "\n",
    "print(sorted(languages))  # nueva lista con los elementos ordenados alfabéticamente\n",
    "print(languages)  # la lista original no se ha visto alterada\n",
    "print(sorted(languages, reverse=True))  # nueva lista con los elementos ordenados a la inversa\n",
    "print(sorted(languages, key=len))  # nueva lista con los elementos ordenados en base al\n",
    "                                   # número de caráteres (en caso de elementos iguales,\n",
    "                                   # como Ruby y Java, preserva la posición en la lista)\n",
    "print(sorted(languages, key=len, reverse=True))  # ordenado a al inversa por el número de\n",
    "                                                 # carácteres\n",
    "print(languages)  # el valor de la lista sigue sin verse alterado\n",
    "print(languages.sort())  # no devuelve ninguna lista nueva\n",
    "print(languages)  # pero en este caso sí se ha visto alterado el valor de la propia lista"
   ]
  },
  {
   "cell_type": "markdown",
   "metadata": {},
   "source": [
    "### bisect and insort\n",
    "<strong>bisect.bisect | bisect.bisect_left</strong>: Permite saber la posición exacta en la que agregar un nuevo elemento a la lista asegurándose de mantener la ordenación de ésta. El nuevo elemento se puede agregar a la izquiera o derecha del elemento que comparta el mismo criterio de ordenación de la lista.\n",
    "<br/>\n",
    "<strong>bisect.insort</strong>: Permite agregar elementos a una lista manteniendo el orden, sin necesidad de obtener la posición previamente (internamente se encarga de realizar primero el bisect, y posteriormente el insert)."
   ]
  },
  {
   "cell_type": "code",
   "execution_count": 7,
   "metadata": {},
   "outputs": [],
   "source": [
    "import bisect"
   ]
  },
  {
   "cell_type": "code",
   "execution_count": 17,
   "metadata": {},
   "outputs": [
    {
     "name": "stdout",
     "output_type": "stream",
     "text": [
      "1\n",
      "6\n",
      "11\n",
      "9\n"
     ]
    }
   ],
   "source": [
    "HAYSTACK = [1, 4, 5, 6, 8, 12, 15, 20, 21, 23, 23, 26, 29, 30]\n",
    "print(bisect.bisect(HAYSTACK, 2))\n",
    "print(bisect.bisect(HAYSTACK, 13))\n",
    "print(bisect.bisect(HAYSTACK, 23))\n",
    "print(bisect.bisect_left(HAYSTACK, 23))"
   ]
  },
  {
   "cell_type": "markdown",
   "metadata": {},
   "source": [
    "Ejemplo de uso del módulo bisect. Averiguar la nota genérica en función de una lista de notas numéricas de un exámen."
   ]
  },
  {
   "cell_type": "code",
   "execution_count": 26,
   "metadata": {},
   "outputs": [
    {
     "name": "stdout",
     "output_type": "stream",
     "text": [
      "Sergio -> C\n",
      "Inma -> B\n",
      "Bilbo -> F\n"
     ]
    }
   ],
   "source": [
    "GRADES = 'FDCBA'\n",
    "SCORE_BY_ALUMN = {\n",
    "    'Sergio': 72,\n",
    "    'Inma': 85,\n",
    "    'Bilbo': 49,\n",
    "}\n",
    "def grade(score, breakpoints=[60, 70, 80, 90]):\n",
    "    i = bisect.bisect(breakpoints, score)\n",
    "    return GRADES[i]\n",
    "\n",
    "for alumn, score in SCORE_BY_ALUMN.items():\n",
    "    print('%s -> %s' % (alumn, grade(score)))"
   ]
  },
  {
   "cell_type": "markdown",
   "metadata": {},
   "source": [
    "Crear una lista con números aleatorios de manera ordenada"
   ]
  },
  {
   "cell_type": "code",
   "execution_count": 50,
   "metadata": {},
   "outputs": [
    {
     "name": "stdout",
     "output_type": "stream",
     "text": [
      "10 ->  [10]\n",
      " 0 ->  [0, 10]\n",
      " 6 ->  [0, 6, 10]\n",
      " 8 ->  [0, 6, 8, 10]\n",
      " 7 ->  [0, 6, 7, 8, 10]\n",
      " 2 ->  [0, 2, 6, 7, 8, 10]\n",
      "10 ->  [0, 2, 6, 7, 8, 10, 10]\n"
     ]
    }
   ],
   "source": [
    "import bisect\n",
    "import random\n",
    "\n",
    "SIZE = 7\n",
    "\n",
    "random.seed(1729)\n",
    "\n",
    "my_list = []\n",
    "for _ in range(SIZE):\n",
    "    item = random.randrange(SIZE*2)\n",
    "    bisect.insort(my_list, item)\n",
    "    print('%2d -> ' % item, my_list)"
   ]
  }
 ],
 "metadata": {
  "kernelspec": {
   "display_name": "Python 3",
   "language": "python",
   "name": "python3"
  },
  "language_info": {
   "codemirror_mode": {
    "name": "ipython",
    "version": 3
   },
   "file_extension": ".py",
   "mimetype": "text/x-python",
   "name": "python",
   "nbconvert_exporter": "python",
   "pygments_lexer": "ipython3",
   "version": "3.7.6"
  }
 },
 "nbformat": 4,
 "nbformat_minor": 4
}
