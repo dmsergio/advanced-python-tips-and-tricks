{
 "cells": [
  {
   "cell_type": "markdown",
   "metadata": {},
   "source": [
    "### Deques and other queues\n",
    "La mayor ventaja de este tipo de objetos es la eficiencia a la hora de agregar o quitar elementos. Con una lista también se podrían realizar este tipo de operaciones, pero penalizando en eficiencia."
   ]
  },
  {
   "cell_type": "code",
   "execution_count": 1,
   "metadata": {},
   "outputs": [],
   "source": [
    "from collections import deque"
   ]
  },
  {
   "cell_type": "code",
   "execution_count": 16,
   "metadata": {},
   "outputs": [
    {
     "name": "stdout",
     "output_type": "stream",
     "text": [
      "deque([0, 1, 2, 3, 4, 5, 6, 7, 8, 9], maxlen=10)\n",
      "deque([6, 7, 8, 9, 0, 1, 2, 3, 4, 5], maxlen=10)\n",
      "deque([0, 1, 2, 3, 4, 5, 6, 7, 8, 9], maxlen=10)\n",
      "deque([-1, 0, 1, 2, 3, 4, 5, 6, 7, 8], maxlen=10)\n",
      "deque([3, 4, 5, 6, 7, 8, 9, 10, 11, 12], maxlen=10)\n",
      "deque([1, 2, 3, 4, 5, 6, 7, 8, 9, 10], maxlen=10)\n"
     ]
    }
   ],
   "source": [
    "dq = deque(range(10), maxlen=10)\n",
    "# el parámetro maxlen es opcional, y permite mantener un tamaño fijo por muchos elementos que se vayan agregando\n",
    "print(dq)\n",
    "dq.rotate(4)  # rota cuatro posciones a la derecha cada uno de los elementos\n",
    "print(dq)\n",
    "dq.rotate(-4)  # rotta cuatro posiciones a la izquierda cada uno de los elementos\n",
    "print(dq)\n",
    "dq.appendleft(-1)  # agrega un nuevo elemento al comienzo (saca el último, al exceder el tamaño máximo)\n",
    "print(dq)\n",
    "dq.extend([9, 10, 11, 12])  # agrega el array al final de la lista\n",
    "print(dq)\n",
    "dq.extendleft([2, 1])  # agrega el array al comienzo de la lista\n",
    "print(dq)"
   ]
  },
  {
   "cell_type": "code",
   "execution_count": null,
   "metadata": {},
   "outputs": [],
   "source": []
  }
 ],
 "metadata": {
  "kernelspec": {
   "display_name": "Python 3",
   "language": "python",
   "name": "python3"
  },
  "language_info": {
   "codemirror_mode": {
    "name": "ipython",
    "version": 3
   },
   "file_extension": ".py",
   "mimetype": "text/x-python",
   "name": "python",
   "nbconvert_exporter": "python",
   "pygments_lexer": "ipython3",
   "version": "3.7.6"
  }
 },
 "nbformat": 4,
 "nbformat_minor": 4
}
