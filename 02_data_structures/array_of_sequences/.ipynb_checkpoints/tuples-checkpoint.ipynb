{
 "cells": [
  {
   "cell_type": "markdown",
   "metadata": {},
   "source": [
    "### Tuples"
   ]
  },
  {
   "cell_type": "markdown",
   "metadata": {},
   "source": [
    "#### Tuples usados como registros"
   ]
  },
  {
   "cell_type": "markdown",
   "metadata": {},
   "source": [
    "Una de las características más potetentes de las tuplas es que se pueden desenpaquetar en variables, haciendo así que sean un registro con diferentes valores almacenados."
   ]
  },
  {
   "cell_type": "code",
   "execution_count": 1,
   "metadata": {},
   "outputs": [
    {
     "name": "stdout",
     "output_type": "stream",
     "text": [
      "Movie:\t\tInterstellar\n",
      "Directed by:\tChristopher Nolan\n",
      "Released in:\t2014\n"
     ]
    }
   ],
   "source": [
    "movie, year, director = ('Interstellar', 2014, 'Christopher Nolan')\n",
    "print('Movie:\\t\\t%s\\nDirected by:\\t%s\\nReleased in:\\t%s' % (movie, director, year))"
   ]
  },
  {
   "cell_type": "code",
   "execution_count": 2,
   "metadata": {},
   "outputs": [
    {
     "name": "stdout",
     "output_type": "stream",
     "text": [
      "Django Unchairned\n",
      "[2012, 'Quentin Tarantino']\n"
     ]
    }
   ],
   "source": [
    "movie, *rest = ('Django Unchairned', 2012, 'Quentin Tarantino')\n",
    "print(movie)\n",
    "print(rest)  # con el comando '*' se puede almacenar el resto de valores"
   ]
  },
  {
   "cell_type": "markdown",
   "metadata": {},
   "source": [
    "Uno de los usos más elegantes que se puede realizar con el desempaquetamiento de tuplas es el de intercambiar valores entre dos variables."
   ]
  },
  {
   "cell_type": "code",
   "execution_count": 3,
   "metadata": {},
   "outputs": [
    {
     "name": "stdout",
     "output_type": "stream",
     "text": [
      "Valor original de las variables:\n",
      "a = 1\n",
      "b = 0\n",
      "Valor tras intercambiar sus valores:\n",
      "a = 0\n",
      "b = 1\n"
     ]
    }
   ],
   "source": [
    "a = 1\n",
    "b = 0\n",
    "print('Valor original de las variables:\\na = %s\\nb = %s' % (a, b))\n",
    "a, b = b, a  # unpacking\n",
    "print('Valor tras intercambiar sus valores:\\na = %s\\nb = %s' % (a, b))"
   ]
  },
  {
   "cell_type": "markdown",
   "metadata": {},
   "source": [
    "Otro ejemplo del desempaquetamiento es el de pasar una varible que almacene una tupla como parámetros de una función."
   ]
  },
  {
   "cell_type": "code",
   "execution_count": 4,
   "metadata": {},
   "outputs": [
    {
     "data": {
      "text/plain": [
       "15"
      ]
     },
     "execution_count": 4,
     "metadata": {},
     "output_type": "execute_result"
    }
   ],
   "source": [
    "def my_sum(num_1, num_2):\n",
    "    return num_1 + num_2\n",
    "\n",
    "numbers = (10, 5)\n",
    "my_sum(*numbers)"
   ]
  },
  {
   "cell_type": "markdown",
   "metadata": {},
   "source": [
    "Y también se puede realizar a la inversa, desempequetar los valores que devuelva un método para almacenarlos en las variables deseadas."
   ]
  },
  {
   "cell_type": "code",
   "execution_count": 12,
   "metadata": {},
   "outputs": [
    {
     "data": {
      "text/plain": [
       "('Sergio', 'Díaz Martínez')"
      ]
     },
     "execution_count": 12,
     "metadata": {},
     "output_type": "execute_result"
    }
   ],
   "source": [
    "def split_name_and_surmanes(raw_name):\n",
    "    return map(lambda r: r.strip(), raw_name.split(','))\n",
    "name, surname = split_name_and_surmanes('Sergio, Díaz Martínez')\n",
    "name, surname"
   ]
  },
  {
   "cell_type": "markdown",
   "metadata": {},
   "source": [
    "Es posible pasar parámetros extra a los métodos, los cuáles se almacenarán en la variable que contenga el símbolo '*', y dicha variable será una tupla."
   ]
  },
  {
   "cell_type": "code",
   "execution_count": 14,
   "metadata": {},
   "outputs": [
    {
     "name": "stdout",
     "output_type": "stream",
     "text": [
      "<class 'tuple'> (4, 5, 6)\n"
     ]
    },
    {
     "data": {
      "text/plain": [
       "18"
      ]
     },
     "execution_count": 14,
     "metadata": {},
     "output_type": "execute_result"
    }
   ],
   "source": [
    "def my_sum(num_1, num_2, *args):\n",
    "    print(type(args), args)\n",
    "    numbers = [num_1, num_2]\n",
    "    numbers.extend(args)\n",
    "    return sum(numbers)\n",
    "\n",
    "my_sum(1, 2, 4, 5, 6)"
   ]
  },
  {
   "cell_type": "markdown",
   "metadata": {},
   "source": [
    "#### Named Tuples\n",
    "collections.nameduple está pensando para usar las tuplas como registros, con la comodidad de poder referencia cada valor del registro con un nombre. Además tiene la ventaja que usa la misma cantidad de memoria que las tuplas tradicionales."
   ]
  },
  {
   "cell_type": "code",
   "execution_count": 32,
   "metadata": {},
   "outputs": [
    {
     "name": "stdout",
     "output_type": "stream",
     "text": [
      "Name: Interestellar\n",
      "Director: Christopher Nolan\n",
      "Year: 2014\n"
     ]
    }
   ],
   "source": [
    "from collections import namedtuple\n",
    "Movie = namedtuple('Movie', 'name director year')\n",
    "interestellar = Movie('Interestellar', 'Christopher Nolan', 2014)\n",
    "print('Name: %s\\nDirector: %s\\nYear: %s' % (\n",
    "    interestellar.name,\n",
    "    interestellar.director,\n",
    "    interestellar.year\n",
    "))"
   ]
  },
  {
   "cell_type": "code",
   "execution_count": 42,
   "metadata": {},
   "outputs": [
    {
     "name": "stdout",
     "output_type": "stream",
     "text": [
      "Name                 | Director             | Year  \n",
      "Interestellar        | Christopher Nolan    |   2014\n",
      "Django Unchairned    | Quentin Tarantino    |   2012\n",
      "Inception            | Christopher Nolan    |   2010\n"
     ]
    }
   ],
   "source": [
    "films = [\n",
    "    Movie('Interestellar', 'Christopher Nolan', 2014),\n",
    "    Movie('Django Unchairned', 'Quentin Tarantino', 2012),\n",
    "    Movie('Inception', 'Christopher Nolan', 2010),\n",
    "]\n",
    "\n",
    "format_ = '{:20} | {:20} | {:6}'\n",
    "film, director, year = map(lambda r: r.capitalize(), interestellar._fields)\n",
    "print(format_.format(film, director, year))\n",
    "for film in films:\n",
    "    print(format_.format(film.name, film.director, film.year))"
   ]
  },
  {
   "cell_type": "markdown",
   "metadata": {},
   "source": [
    "Es posble dejar preparado una tupla con los valores, para posteriormente crear la instancia con el método _make."
   ]
  },
  {
   "cell_type": "code",
   "execution_count": 47,
   "metadata": {},
   "outputs": [
    {
     "name": "stdout",
     "output_type": "stream",
     "text": [
      "Name                 | Director             | Year  \n",
      "Interestellar        | Christopher Nolan    |   2014\n",
      "Django Unchairned    | Quentin Tarantino    |   2012\n",
      "Inception            | Christopher Nolan    |   2010\n"
     ]
    }
   ],
   "source": [
    "films_data = [\n",
    "    ('Interestellar', 'Christopher Nolan', 2014),\n",
    "    ('Django Unchairned', 'Quentin Tarantino', 2012),\n",
    "    ('Inception', 'Christopher Nolan', 2010),\n",
    "]\n",
    "\n",
    "format_ = '{:20} | {:20} | {:6}'\n",
    "film, director, year = map(lambda r: r.capitalize(), Movie._fields)\n",
    "print(format_.format(film, director, year))\n",
    "for film_data in films_data:\n",
    "    film = Movie._make(film_data)  # nueva instancia\n",
    "    print(format_.format(film.name, film.director, film.year))"
   ]
  }
 ],
 "metadata": {
  "kernelspec": {
   "display_name": "Python 3",
   "language": "python",
   "name": "python3"
  },
  "language_info": {
   "codemirror_mode": {
    "name": "ipython",
    "version": 3
   },
   "file_extension": ".py",
   "mimetype": "text/x-python",
   "name": "python",
   "nbconvert_exporter": "python",
   "pygments_lexer": "ipython3",
   "version": "3.7.6"
  }
 },
 "nbformat": 4,
 "nbformat_minor": 4
}
