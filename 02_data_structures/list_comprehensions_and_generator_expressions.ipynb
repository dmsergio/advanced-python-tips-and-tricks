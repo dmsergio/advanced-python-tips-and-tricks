{
 "cells": [
  {
   "cell_type": "markdown",
   "metadata": {},
   "source": [
    "### List Comprehensions and Generator Expressions\n",
    "list comprehensions == listcomps<br/>\n",
    "generator expressions == genexps\n",
    "#### Qué diferencia uno de otro?\n",
    "La mayor diferencia se encuentra en la eficiencia en memoria. Mientras los listcomps crea el iterable para poder usarlo en cualquier momento, los genexps no se crean hasta que estos son invocados (generando un iterador que devolverá cada elemento con el comando yield).<br/>\n",
    "Los listcomps se deberían usar siempre y cuando se quiera hacer referencia a cualquiera de sus elementos una vez creado, mientras que los genexps para acceder a sus elementos una única vez."
   ]
  },
  {
   "cell_type": "markdown",
   "metadata": {},
   "source": [
    "#### Sintaxis listcomps\n",
    "```[item for item in collection if condition]```"
   ]
  },
  {
   "cell_type": "markdown",
   "metadata": {},
   "source": [
    "#### Sintaxis genexps\n",
    "```(item for item in collection if condition)```"
   ]
  },
  {
   "cell_type": "code",
   "execution_count": 4,
   "metadata": {},
   "outputs": [
    {
     "name": "stdout",
     "output_type": "stream",
     "text": [
      "[0, 1, 2, 3, 4, 5, 6, 7, 8, 9, 10, 11, 12, 13, 14, 15, 16, 17, 18, 19]\n",
      "[0, 2, 4, 6, 8, 10, 12, 14, 16, 18]\n"
     ]
    }
   ],
   "source": [
    "numbers = list(range(20))\n",
    "print(numbers)\n",
    "even_numbers = [number for number in numbers if number % 2 == 0]\n",
    "print(even_numbers)"
   ]
  },
  {
   "cell_type": "markdown",
   "metadata": {},
   "source": [
    "Las variables definidas dentro de la construcción del list comprehension son locales, con lo que entrará en conflicto con variables llamadas igual dentro del mismo ámbito."
   ]
  },
  {
   "cell_type": "code",
   "execution_count": 5,
   "metadata": {},
   "outputs": [
    {
     "name": "stdout",
     "output_type": "stream",
     "text": [
      "['A', 'E', 'I', 'O', 'U']\n",
      "a\n"
     ]
    }
   ],
   "source": [
    "x = 'a'\n",
    "vocals = 'aeiou'\n",
    "print([x.upper() for x in vocals])  # el último valor almacenado en x es 'A'\n",
    "print(x)  # sin embargo al construirse en un ámbito diferente, no se ve alterado su valor"
   ]
  },
  {
   "cell_type": "markdown",
   "metadata": {},
   "source": [
    "A continuación se puede ver la construcción de una lista usando genexps"
   ]
  },
  {
   "cell_type": "code",
   "execution_count": 11,
   "metadata": {},
   "outputs": [
    {
     "name": "stdout",
     "output_type": "stream",
     "text": [
      "['A', 'E', 'I', 'O', 'U']\n",
      "['A', 'B', 'C']\n"
     ]
    }
   ],
   "source": [
    "print(list(x.upper() for x in 'aeiou'))\n",
    "generator = (x.upper() for x in 'abc')\n",
    "print(list(generator))"
   ]
  },
  {
   "cell_type": "code",
   "execution_count": 13,
   "metadata": {},
   "outputs": [
    {
     "name": "stdout",
     "output_type": "stream",
     "text": [
      "blue\ts\n",
      "blue\tm\n",
      "blue\tl\n",
      "blue\txl\n",
      "red\ts\n",
      "red\tm\n",
      "red\tl\n",
      "red\txl\n",
      "yellow\ts\n",
      "yellow\tm\n",
      "yellow\tl\n",
      "yellow\txl\n"
     ]
    }
   ],
   "source": [
    "colors = 'blue red yellow'.split()\n",
    "sizes = 's m l xl'.split()\n",
    "for tshirt in ('%s\\t%s' % (color, size) for color in colors for size in sizes):\n",
    "    print(tshirt)"
   ]
  },
  {
   "cell_type": "code",
   "execution_count": null,
   "metadata": {},
   "outputs": [],
   "source": []
  }
 ],
 "metadata": {
  "kernelspec": {
   "display_name": "Python 3",
   "language": "python",
   "name": "python3"
  },
  "language_info": {
   "codemirror_mode": {
    "name": "ipython",
    "version": 3
   },
   "file_extension": ".py",
   "mimetype": "text/x-python",
   "name": "python",
   "nbconvert_exporter": "python",
   "pygments_lexer": "ipython3",
   "version": "3.7.6"
  }
 },
 "nbformat": 4,
 "nbformat_minor": 4
}
