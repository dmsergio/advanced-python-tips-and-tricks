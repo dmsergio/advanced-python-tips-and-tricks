{
 "cells": [
  {
   "cell_type": "markdown",
   "metadata": {},
   "source": [
    "### Sets"
   ]
  },
  {
   "cell_type": "markdown",
   "metadata": {},
   "source": [
    "Colección de objetos únicos. El prinipal uso de este tipo de estructuras es la de eliminar duplicados."
   ]
  },
  {
   "cell_type": "code",
   "execution_count": 2,
   "metadata": {},
   "outputs": [
    {
     "name": "stdout",
     "output_type": "stream",
     "text": [
      "['orange', 'apple', 'apple', 'apple', 'orange']\n",
      "{'orange', 'apple'}\n",
      "['orange', 'apple']\n"
     ]
    }
   ],
   "source": [
    "my_list = ['orange', 'apple', 'apple', 'apple', 'orange']\n",
    "print(my_list)\n",
    "my_set = set(my_list)\n",
    "print(my_set)\n",
    "my_list = list(my_set)\n",
    "print(my_list)"
   ]
  },
  {
   "cell_type": "markdown",
   "metadata": {},
   "source": [
    "#### Operaciones disponibles\n",
    "`a | b` unión entre ambos sets<br>\n",
    "`a & b` intersección entre ambos (elementos coincidentes entre ambos)<br>\n",
    "`a - b` diferencia entre ambos sets"
   ]
  },
  {
   "cell_type": "code",
   "execution_count": 8,
   "metadata": {},
   "outputs": [
    {
     "name": "stdout",
     "output_type": "stream",
     "text": [
      "Coincidences: {'Francia', 'España', 'Bélgica', 'Italia'}\n",
      "Coincidences: {'Francia', 'España', 'Bélgica', 'Italia'}\n",
      "Differences {'Australia', 'EEUU', 'Mexico', 'Marruecos', 'Canada'}\n"
     ]
    }
   ],
   "source": [
    "countries = {'España', 'Francia', 'Mexico', 'EEUU', 'Canada', 'Italia', 'Marruecos', 'Australia', 'Bélgica'}\n",
    "eu_countries = {'España', 'Francia', 'Italia', 'Bélgica'}\n",
    "print(f'Coincidences: {countries & eu_countries}')\n",
    "print(f'Coincidences: {countries.intersection(eu_countries)}')  # same result\n",
    "print(f'Differences {countries - eu_countries}')"
   ]
  },
  {
   "cell_type": "markdown",
   "metadata": {},
   "source": [
    "#### Crear instancias de sets"
   ]
  },
  {
   "cell_type": "code",
   "execution_count": 32,
   "metadata": {},
   "outputs": [
    {
     "name": "stdout",
     "output_type": "stream",
     "text": [
      "{1, 2, 3}\n",
      "set()\n",
      "{'©', '÷', '=', '#', '°', '®', '§', '%', '¥', '¬', '£', '±', '¶', '×', '+', '¢', '<', '$', '¤', 'µ', '>'}\n"
     ]
    }
   ],
   "source": [
    "from unicodedata import name\n",
    "my_set = {1, 2, 3}\n",
    "my_empty_set = set()  # with {} we are creating a dict instead of set\n",
    "signs_set = {\n",
    "    chr(i) for i in range(32, 256)\n",
    "    if 'sign' in name(chr(i), '').lower()\n",
    "}\n",
    "print(my_set)\n",
    "print(my_empty_set)\n",
    "print(signs_set)"
   ]
  },
  {
   "cell_type": "code",
   "execution_count": 28,
   "metadata": {},
   "outputs": [
    {
     "data": {
      "text/plain": [
       "'LATIN CAPITAL LETTER E WITH GRAVE'"
      ]
     },
     "execution_count": 28,
     "metadata": {},
     "output_type": "execute_result"
    }
   ],
   "source": [
    "name(chr(200), '')"
   ]
  },
  {
   "cell_type": "code",
   "execution_count": 29,
   "metadata": {},
   "outputs": [
    {
     "data": {
      "text/plain": [
       "'È'"
      ]
     },
     "execution_count": 29,
     "metadata": {},
     "output_type": "execute_result"
    }
   ],
   "source": [
    "chr(200)"
   ]
  },
  {
   "cell_type": "code",
   "execution_count": null,
   "metadata": {},
   "outputs": [],
   "source": []
  }
 ],
 "metadata": {
  "kernelspec": {
   "display_name": "Python 3",
   "language": "python",
   "name": "python3"
  },
  "language_info": {
   "codemirror_mode": {
    "name": "ipython",
    "version": 3
   },
   "file_extension": ".py",
   "mimetype": "text/x-python",
   "name": "python",
   "nbconvert_exporter": "python",
   "pygments_lexer": "ipython3",
   "version": "3.7.6"
  }
 },
 "nbformat": 4,
 "nbformat_minor": 4
}
