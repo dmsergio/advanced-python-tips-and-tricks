{
 "cells": [
  {
   "cell_type": "markdown",
   "metadata": {},
   "source": [
    "### Slicing\n",
    "```seq[start:stop:step]```"
   ]
  },
  {
   "cell_type": "markdown",
   "metadata": {},
   "source": [
    "#### Trocear objetos\n",
    "\n",
    "Se obtiene los elementos desde el índice indicado hasta el final (si se indica, -1). Como mínimo es necesario pasar un parémtro, y como máximo tres:\n",
    "Primer parámetro: Indica el inicio del \"trozo\".\n",
    "Segundo parémtro (excuído): Indica el final del \"trozo\".\n",
    "Tercer parémtro: Permite establecer los pasos"
   ]
  },
  {
   "cell_type": "code",
   "execution_count": 15,
   "metadata": {},
   "outputs": [
    {
     "name": "stdout",
     "output_type": "stream",
     "text": [
      "y\n",
      "Python Language\n",
      "Python Language\n",
      "Python\n",
      "Python Languag\n",
      "Pto agae\n",
      "egaugnaL nohtyP\n",
      "Language\n",
      "to agae\n"
     ]
    }
   ],
   "source": [
    "name = 'Python Language'\n",
    "print(name[1])  # segundo elemento\n",
    "print(name[:])  # todos los elementos\n",
    "print(name[::]) # todos los elementos\n",
    "print(name[0:6]) # desde el primer elemento hasta el sexto no incluído\n",
    "print(name[:-1])    # todos los elementos desde el principio hasta el primero\n",
    "                    # empezando a la inversa\n",
    "print(name[::2])  # todos los elementos con saltos de dos\n",
    "print(name[::-1])  # todos los elementos de uno en uno de manera inversa\n",
    "print(name[7:])  # desde el séptimo elemento\n",
    "print(name[2::2])  # desde el segundo elemento y con saltos de dos"
   ]
  },
  {
   "cell_type": "markdown",
   "metadata": {},
   "source": [
    "La __clase slice__ permite definir variables para trozear secuencias. Por ejemplo, usando los siguientes datos en un fichero de texto plano se podría implementar un código muy legible unsando instancias de la clase slice."
   ]
  },
  {
   "cell_type": "code",
   "execution_count": 38,
   "metadata": {},
   "outputs": [
    {
     "name": "stdout",
     "output_type": "stream",
     "text": [
      "INTERESTELLAR - Directed by Christopher Nolan at 2014.\n",
      "DJANGO UNCHAIRNED - Directed by Quentin Tarantino at 2012.\n",
      "INCEPTION - Directed by Christopher Nolan at 2009.\n"
     ]
    }
   ],
   "source": [
    "films = \"\"\"\n",
    "0..................19.................38..\n",
    "Interestellar      Christopher Nolan  2014\n",
    "Django Unchairned  Quentin Tarantino  2012\n",
    "Inception          Christopher Nolan  2009\n",
    "\"\"\"\n",
    "FILM = slice(0, 18)\n",
    "DIRECTOR = slice(19, 37)\n",
    "YEAR = slice(38, 42)\n",
    "line_items = films.split('\\n')[2:]\n",
    "for item in line_items:\n",
    "    if not item:\n",
    "        continue\n",
    "    print('%s - Directed by %s at %s.' % (\n",
    "        item[FILM].strip().upper(),\n",
    "        item[DIRECTOR].strip(),\n",
    "        item[YEAR],\n",
    "    ))"
   ]
  },
  {
   "cell_type": "markdown",
   "metadata": {},
   "source": [
    "Es posible asignar o eliminar elementos usando los __slices__."
   ]
  },
  {
   "cell_type": "code",
   "execution_count": 55,
   "metadata": {},
   "outputs": [
    {
     "name": "stdout",
     "output_type": "stream",
     "text": [
      "[0, 1, 2, 3, 4, 5, 6, 7, 8, 9]\n",
      "[0, 10, 20, 3, 4, 5, 6, 7, 8, 9]\n",
      "[10, 20, 3, 4, 5, 6, 7, 8, 9]\n",
      "[10, 20, 3, 4, 5, 6, 7, 80, 90]\n"
     ]
    }
   ],
   "source": [
    "elements = list(range(10))\n",
    "print(elements)\n",
    "elements[1:3] = [10, 20]  # asgina los nuevos elementos desde la primera posición\n",
    "                          # hasta la tercera (no incluida) \n",
    "print(elements)\n",
    "del elements[0:1]  # elimina la primera posición\n",
    "print(elements)\n",
    "elements[-2:] = [80, 90]  # asigna los nuevos valores en los dos últimos elementos\n",
    "print(elements)"
   ]
  }
 ],
 "metadata": {
  "kernelspec": {
   "display_name": "Python 3",
   "language": "python",
   "name": "python3"
  },
  "language_info": {
   "codemirror_mode": {
    "name": "ipython",
    "version": 3
   },
   "file_extension": ".py",
   "mimetype": "text/x-python",
   "name": "python",
   "nbconvert_exporter": "python",
   "pygments_lexer": "ipython3",
   "version": "3.7.6"
  }
 },
 "nbformat": 4,
 "nbformat_minor": 4
}
