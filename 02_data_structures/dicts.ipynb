{
 "cells": [
  {
   "cell_type": "markdown",
   "metadata": {},
   "source": [
    "### Dicts"
   ]
  },
  {
   "cell_type": "markdown",
   "metadata": {},
   "source": [
    "#### Keys hashables\n",
    "Las keys de un diccionario deben ser obligatoriamente hashables, es decir, el tipo de dato debe ser atómicamente inmutable (str, bytes, int, float)."
   ]
  },
  {
   "cell_type": "code",
   "execution_count": 19,
   "metadata": {},
   "outputs": [
    {
     "name": "stdout",
     "output_type": "stream",
     "text": [
      "-8616380704418249502\n",
      "3\n",
      "1383505805528216579\n",
      "Error: unhashable type: 'list'\n"
     ]
    }
   ],
   "source": [
    "try:\n",
    "    print(hash('python'))  # hashable\n",
    "    print(hash(3))  # hashable\n",
    "    print(hash(3.6))  # hashable\n",
    "    print(hash(['python']))  # unhashble\n",
    "except Exception as e:\n",
    "    print(f'Error: {e}')"
   ]
  },
  {
   "cell_type": "markdown",
   "metadata": {},
   "source": [
    "#### Diferentes formas de crear diccionarios"
   ]
  },
  {
   "cell_type": "code",
   "execution_count": 21,
   "metadata": {},
   "outputs": [
    {
     "data": {
      "text/plain": [
       "True"
      ]
     },
     "execution_count": 21,
     "metadata": {},
     "output_type": "execute_result"
    }
   ],
   "source": [
    "a = {'one': 1, 'two': 2, 'three': 3}\n",
    "b = dict(one=1, two=2, three=3)\n",
    "c = dict(zip(['one', 'two', 'three'], [1, 2, 3]))\n",
    "d = dict([('one', 1), ('two', 2), ('three', 3)])\n",
    "e = dict({'one': 1, 'two': 2, 'three': 3})\n",
    "a == b == c == d == e"
   ]
  },
  {
   "cell_type": "markdown",
   "metadata": {},
   "source": [
    "#### dict comprehensions"
   ]
  },
  {
   "cell_type": "code",
   "execution_count": 27,
   "metadata": {},
   "outputs": [
    {
     "data": {
      "text/plain": [
       "{'Valencia': '46000', 'Barcelona': '08000', 'Madrid': '28000'}"
      ]
     },
     "execution_count": 27,
     "metadata": {},
     "output_type": "execute_result"
    }
   ],
   "source": [
    "SPAIN_ZIP_CODES = [\n",
    "    ('46000', 'Valencia'),\n",
    "    ('08000', 'Barcelona'),\n",
    "    ('28000', 'Madrid'),\n",
    "]\n",
    "codes_by_city = {city: zip_code for zip_code, city in SPAIN_ZIP_CODES}\n",
    "codes_by_city"
   ]
  },
  {
   "cell_type": "markdown",
   "metadata": {},
   "source": [
    "#### setdefault()\n",
    "Permite agregar valores sobre una key no existente al diccionario, y además devuelve dicho valor"
   ]
  },
  {
   "cell_type": "code",
   "execution_count": 32,
   "metadata": {},
   "outputs": [
    {
     "data": {
      "text/plain": [
       "{'product_1': [5, 5], 'product_2': [10, 1]}"
      ]
     },
     "execution_count": 32,
     "metadata": {},
     "output_type": "execute_result"
    }
   ],
   "source": [
    "product_prices = [\n",
    "    ('product_1', 5),\n",
    "    ('product_2', 10),\n",
    "    ('product_1', 5),\n",
    "    ('product_2', 1),\n",
    "]\n",
    "price_by_product = {}\n",
    "for product, price in product_prices:\n",
    "    price_by_product.setdefault(product, []).append(price)\n",
    "price_by_product"
   ]
  },
  {
   "cell_type": "markdown",
   "metadata": {},
   "source": [
    "#### collections.defaultdict"
   ]
  },
  {
   "cell_type": "code",
   "execution_count": 34,
   "metadata": {},
   "outputs": [
    {
     "data": {
      "text/plain": [
       "defaultdict(list, {'product_1': [5, 5], 'product_2': [10, 1]})"
      ]
     },
     "execution_count": 34,
     "metadata": {},
     "output_type": "execute_result"
    }
   ],
   "source": [
    "from collections import defaultdict\n",
    "product_prices = [\n",
    "    ('product_1', 5),\n",
    "    ('product_2', 10),\n",
    "    ('product_1', 5),\n",
    "    ('product_2', 1),\n",
    "]\n",
    "price_by_product = defaultdict(list)\n",
    "for product, price in product_prices:\n",
    "    price_by_product[product].append(price)\n",
    "price_by_product"
   ]
  },
  {
   "cell_type": "code",
   "execution_count": null,
   "metadata": {},
   "outputs": [],
   "source": []
  }
 ],
 "metadata": {
  "kernelspec": {
   "display_name": "Python 3",
   "language": "python",
   "name": "python3"
  },
  "language_info": {
   "codemirror_mode": {
    "name": "ipython",
    "version": 3
   },
   "file_extension": ".py",
   "mimetype": "text/x-python",
   "name": "python",
   "nbconvert_exporter": "python",
   "pygments_lexer": "ipython3",
   "version": "3.7.6"
  }
 },
 "nbformat": 4,
 "nbformat_minor": 4
}
