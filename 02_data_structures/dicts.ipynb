{
 "cells": [
  {
   "cell_type": "markdown",
   "metadata": {},
   "source": [
    "### Dicts"
   ]
  },
  {
   "cell_type": "markdown",
   "metadata": {},
   "source": [
    "#### Keys hashables\n",
    "Las keys de un diccionario deben ser obligatoriamente hashables, es decir, el tipo de dato debe ser atómicamente inmutable (str, bytes, int, float)."
   ]
  },
  {
   "cell_type": "code",
   "execution_count": 19,
   "metadata": {},
   "outputs": [
    {
     "name": "stdout",
     "output_type": "stream",
     "text": [
      "-8616380704418249502\n",
      "3\n",
      "1383505805528216579\n",
      "Error: unhashable type: 'list'\n"
     ]
    }
   ],
   "source": [
    "try:\n",
    "    print(hash('python'))  # hashable\n",
    "    print(hash(3))  # hashable\n",
    "    print(hash(3.6))  # hashable\n",
    "    print(hash(['python']))  # unhashble\n",
    "except Exception as e:\n",
    "    print(f'Error: {e}')"
   ]
  },
  {
   "cell_type": "markdown",
   "metadata": {},
   "source": [
    "#### Diferentes formas de crear diccionarios"
   ]
  },
  {
   "cell_type": "code",
   "execution_count": 21,
   "metadata": {},
   "outputs": [
    {
     "data": {
      "text/plain": [
       "True"
      ]
     },
     "execution_count": 21,
     "metadata": {},
     "output_type": "execute_result"
    }
   ],
   "source": [
    "a = {'one': 1, 'two': 2, 'three': 3}\n",
    "b = dict(one=1, two=2, three=3)\n",
    "c = dict(zip(['one', 'two', 'three'], [1, 2, 3]))\n",
    "d = dict([('one', 1), ('two', 2), ('three', 3)])\n",
    "e = dict({'one': 1, 'two': 2, 'three': 3})\n",
    "a == b == c == d == e"
   ]
  },
  {
   "cell_type": "markdown",
   "metadata": {},
   "source": [
    "#### dict comprehensions"
   ]
  },
  {
   "cell_type": "code",
   "execution_count": 27,
   "metadata": {},
   "outputs": [
    {
     "data": {
      "text/plain": [
       "{'Valencia': '46000', 'Barcelona': '08000', 'Madrid': '28000'}"
      ]
     },
     "execution_count": 27,
     "metadata": {},
     "output_type": "execute_result"
    }
   ],
   "source": [
    "SPAIN_ZIP_CODES = [\n",
    "    ('46000', 'Valencia'),\n",
    "    ('08000', 'Barcelona'),\n",
    "    ('28000', 'Madrid'),\n",
    "]\n",
    "codes_by_city = {city: zip_code for zip_code, city in SPAIN_ZIP_CODES}\n",
    "codes_by_city"
   ]
  },
  {
   "cell_type": "markdown",
   "metadata": {},
   "source": [
    "#### setdefault()\n",
    "Permite agregar valores sobre una key no existente al diccionario, y además devuelve dicho valor"
   ]
  },
  {
   "cell_type": "code",
   "execution_count": 32,
   "metadata": {},
   "outputs": [
    {
     "data": {
      "text/plain": [
       "{'product_1': [5, 5], 'product_2': [10, 1]}"
      ]
     },
     "execution_count": 32,
     "metadata": {},
     "output_type": "execute_result"
    }
   ],
   "source": [
    "product_prices = [\n",
    "    ('product_1', 5),\n",
    "    ('product_2', 10),\n",
    "    ('product_1', 5),\n",
    "    ('product_2', 1),\n",
    "]\n",
    "price_by_product = {}\n",
    "for product, price in product_prices:\n",
    "    price_by_product.setdefault(product, []).append(price)\n",
    "price_by_product"
   ]
  },
  {
   "cell_type": "markdown",
   "metadata": {},
   "source": [
    "#### collections.defaultdict"
   ]
  },
  {
   "cell_type": "code",
   "execution_count": 34,
   "metadata": {},
   "outputs": [
    {
     "data": {
      "text/plain": [
       "defaultdict(list, {'product_1': [5, 5], 'product_2': [10, 1]})"
      ]
     },
     "execution_count": 34,
     "metadata": {},
     "output_type": "execute_result"
    }
   ],
   "source": [
    "from collections import defaultdict\n",
    "product_prices = [\n",
    "    ('product_1', 5),\n",
    "    ('product_2', 10),\n",
    "    ('product_1', 5),\n",
    "    ('product_2', 1),\n",
    "]\n",
    "price_by_product = defaultdict(list)\n",
    "for product, price in product_prices:\n",
    "    price_by_product[product].append(price)\n",
    "price_by_product"
   ]
  },
  {
   "cell_type": "markdown",
   "metadata": {},
   "source": [
    "### Variaciones de diccionarios"
   ]
  },
  {
   "cell_type": "markdown",
   "metadata": {},
   "source": [
    "#### collections.OrderedDict\n",
    "Mantiene las keys en el orden en el que han sido insertadas."
   ]
  },
  {
   "cell_type": "code",
   "execution_count": 3,
   "metadata": {},
   "outputs": [
    {
     "data": {
      "text/plain": [
       "['one', 'two', 'three']"
      ]
     },
     "execution_count": 3,
     "metadata": {},
     "output_type": "execute_result"
    }
   ],
   "source": [
    "from collections import OrderedDict\n",
    "my_ordered_dict = OrderedDict({\n",
    "    'one': 1,\n",
    "    'two': 2,\n",
    "    'three': 3,\n",
    "})\n",
    "[key for key in my_ordered_dict.keys()]"
   ]
  },
  {
   "cell_type": "markdown",
   "metadata": {},
   "source": [
    "#### collections.Counter\n",
    "Incrementa un entero por cada coincidencia de una key dentro del diccionario."
   ]
  },
  {
   "cell_type": "code",
   "execution_count": 14,
   "metadata": {},
   "outputs": [
    {
     "name": "stdout",
     "output_type": "stream",
     "text": [
      "\n",
      "Counter({'a': 2, 'e': 2, 'b': 1, 'c': 1, 'd': 1, 'r': 1, 'i': 1, 'o': 1})\n",
      "Letter: a -> 2 occurrences\n",
      "Letter: b -> 1 occurrences\n",
      "Letter: e -> 2 occurrences\n",
      "Letter: c -> 1 occurrences\n",
      "Letter: d -> 1 occurrences\n",
      "Letter: r -> 1 occurrences\n",
      "Letter: i -> 1 occurrences\n",
      "Letter: o -> 1 occurrences\n",
      "\n",
      "Counter({'a': 6, 'd': 4, 's': 4, 'f': 4, 'e': 2, 'b': 1, 'c': 1, 'r': 1, 'i': 1, 'o': 1})\n",
      "Letter: a -> 6 occurrences\n",
      "Letter: b -> 1 occurrences\n",
      "Letter: e -> 2 occurrences\n",
      "Letter: c -> 1 occurrences\n",
      "Letter: d -> 4 occurrences\n",
      "Letter: r -> 1 occurrences\n",
      "Letter: i -> 1 occurrences\n",
      "Letter: o -> 1 occurrences\n",
      "Letter: s -> 4 occurrences\n",
      "Letter: f -> 4 occurrences\n",
      "\n",
      "Top 3\n",
      "Letter: a -> 6 occurrences\n",
      "Letter: d -> 4 occurrences\n",
      "Letter: s -> 4 occurrences\n"
     ]
    }
   ],
   "source": [
    "def print_occurrences(my_counter):\n",
    "    print(f'\\n{my_counter}')\n",
    "    for letter, occurrences in my_counter.items():\n",
    "        print(f'Letter: {letter} -> {occurrences} occurrences')\n",
    "    \n",
    "from collections import Counter\n",
    "my_counter = Counter('abecedario')\n",
    "print_occurrences(my_counter)\n",
    "my_counter.update('asdfasfasdfasdf')\n",
    "print_occurrences(my_counter)\n",
    "\n",
    "print('\\nTop 3')\n",
    "for letter, occurrences in my_counter.most_common(3):\n",
    "    print(f'Letter: {letter} -> {occurrences} occurrences')"
   ]
  },
  {
   "cell_type": "markdown",
   "metadata": {},
   "source": [
    "#### collections.UserDict\n",
    "Una implementación pura de Python para trabajar con mapeos.\n",
    "Mientras las anteriores variacioens de diccionarios ya estaban listas para ser usadas, el UserDict está diseñada para crear nuevas clases a raíz de ella."
   ]
  },
  {
   "cell_type": "markdown",
   "metadata": {},
   "source": [
    "#### Método __missing__()\n",
    "Permite manejar la excepción lanzada cuando no se encuentra una key dentro de un diccionario (dict[key]). El método no viene implementado en la clase genérica dict, con lo que habría que herederla para implementar dicha funcionalidad, aunque la mejor manera de implementar dicho método es la de heredar la clase collections.UserDict. "
   ]
  },
  {
   "cell_type": "code",
   "execution_count": 15,
   "metadata": {},
   "outputs": [
    {
     "name": "stdout",
     "output_type": "stream",
     "text": [
      "{'1': 1, '2': 2}\n",
      "1\n"
     ]
    },
    {
     "ename": "KeyError",
     "evalue": "2",
     "output_type": "error",
     "traceback": [
      "\u001b[0;31m---------------------------------------------------------------------------\u001b[0m",
      "\u001b[0;31mKeyError\u001b[0m                                  Traceback (most recent call last)",
      "\u001b[0;32m<ipython-input-15-ce61a42d6346>\u001b[0m in \u001b[0;36m<module>\u001b[0;34m\u001b[0m\n\u001b[1;32m      3\u001b[0m \u001b[0mprint\u001b[0m\u001b[0;34m(\u001b[0m\u001b[0mmy_dict\u001b[0m\u001b[0;34m)\u001b[0m\u001b[0;34m\u001b[0m\u001b[0;34m\u001b[0m\u001b[0m\n\u001b[1;32m      4\u001b[0m \u001b[0mprint\u001b[0m\u001b[0;34m(\u001b[0m\u001b[0mmy_dict\u001b[0m\u001b[0;34m[\u001b[0m\u001b[0;34m'1'\u001b[0m\u001b[0;34m]\u001b[0m\u001b[0;34m)\u001b[0m\u001b[0;34m\u001b[0m\u001b[0;34m\u001b[0m\u001b[0m\n\u001b[0;32m----> 5\u001b[0;31m \u001b[0mprint\u001b[0m\u001b[0;34m(\u001b[0m\u001b[0mmy_dict\u001b[0m\u001b[0;34m[\u001b[0m\u001b[0;36m2\u001b[0m\u001b[0;34m]\u001b[0m\u001b[0;34m)\u001b[0m  \u001b[0;31m# raise a excepction because the key 2 not in the dict\u001b[0m\u001b[0;34m\u001b[0m\u001b[0;34m\u001b[0m\u001b[0m\n\u001b[0m",
      "\u001b[0;31mKeyError\u001b[0m: 2"
     ]
    }
   ],
   "source": [
    "# dict estándar\n",
    "my_dict = {'1': 1, '2': 2}\n",
    "print(my_dict)\n",
    "print(my_dict['1'])\n",
    "print(my_dict[2])  # raise a excepction because the key 2 not in the dict"
   ]
  },
  {
   "cell_type": "code",
   "execution_count": 18,
   "metadata": {},
   "outputs": [
    {
     "name": "stdout",
     "output_type": "stream",
     "text": [
      "{'1': 1, '2': 2}\n",
      "1\n",
      "2\n"
     ]
    }
   ],
   "source": [
    "class StrKeyDict(dict):\n",
    "    def __missing__(self, key):\n",
    "        if isinstance(key, str):\n",
    "            raise KeyError(key)\n",
    "        return self[str(key)]\n",
    "    \n",
    "    def get(self, key, default=None):\n",
    "        try:\n",
    "            return self[key]\n",
    "        except KeyError:\n",
    "            return default\n",
    "        \n",
    "    def __contains__(self, key):\n",
    "        return key in self.keys() or str(key) in self.keys()\n",
    "\n",
    "my_str_dict = StrKeyDict({'1': 1, '2': 2})\n",
    "print(my_str_dict)\n",
    "print(my_str_dict['1'])\n",
    "print(my_str_dict[2])  # not raise an error, because the method __missing__ realize the cast to str to get the value"
   ]
  },
  {
   "cell_type": "code",
   "execution_count": 2,
   "metadata": {},
   "outputs": [
    {
     "name": "stdout",
     "output_type": "stream",
     "text": [
      "{'1': 1, '2': 2, '3': 3}\n",
      "1\n",
      "2\n"
     ]
    }
   ],
   "source": [
    "import collections\n",
    "class StrKeyDict0(collections.UserDict):\n",
    "    def __missing__(self, key):\n",
    "        if isinstance(key, str):\n",
    "            raise KeyError(key)\n",
    "        return self[str(key)]\n",
    "    \n",
    "    def __contains__(self, key):\n",
    "        return str(key) in self.data\n",
    "    \n",
    "    def __setitem__(self, key, item):\n",
    "        self.data[str(key)] = item\n",
    "        \n",
    "my_str_dict0 = StrKeyDict0({'1': 1, '2': 2})\n",
    "my_str_dict0[3] = 3\n",
    "print(my_str_dict0)\n",
    "print(my_str_dict0['1'])\n",
    "print(my_str_dict0[2])"
   ]
  },
  {
   "cell_type": "markdown",
   "metadata": {},
   "source": [
    "#### types.MappingProxyType\n",
    "En ciertos escenarios es útil disponer de un diccionario en el cuál no se puede realizar ninguna modificación, sino simplemente usarlo para leer la información obtenida en él.\n",
    "Una instancia de MappngProxyType sirve como un reflejo de solo lectura el diccionario sobre el que se está instanciando, es decir, que cualquier modificación sobre el diccionario original se verá reflejado en la nueva instancia."
   ]
  },
  {
   "cell_type": "code",
   "execution_count": 4,
   "metadata": {},
   "outputs": [
    {
     "name": "stdout",
     "output_type": "stream",
     "text": [
      "{'language': 'Python'}\n",
      "Python\n",
      "{'language': 'Python', 'version': 3}\n"
     ]
    }
   ],
   "source": [
    "from types import MappingProxyType\n",
    "my_dict = {'language': 'Python'}\n",
    "my_dict_proxy = MappingProxyType(my_dict)\n",
    "print(my_dict_proxy)\n",
    "print(my_dict_proxy['language'])  # is possible get values\n",
    "try:\n",
    "    my_dict_proxy['version'] = 3  # but is not possible set new values\n",
    "except:\n",
    "    pass\n",
    "my_dict['version'] = 3\n",
    "print(my_dict_proxy)"
   ]
  },
  {
   "cell_type": "code",
   "execution_count": null,
   "metadata": {},
   "outputs": [],
   "source": []
  }
 ],
 "metadata": {
  "kernelspec": {
   "display_name": "Python 3",
   "language": "python",
   "name": "python3"
  },
  "language_info": {
   "codemirror_mode": {
    "name": "ipython",
    "version": 3
   },
   "file_extension": ".py",
   "mimetype": "text/x-python",
   "name": "python",
   "nbconvert_exporter": "python",
   "pygments_lexer": "ipython3",
   "version": "3.7.6"
  }
 },
 "nbformat": 4,
 "nbformat_minor": 4
}
